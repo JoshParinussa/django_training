{
 "cells": [
  {
   "cell_type": "code",
   "execution_count": 1,
   "metadata": {},
   "outputs": [],
   "source": [
    "from decimal import Decimal\n",
    "from customer.models import Customer, Product, Transaction, Cart\n",
    "from django.db.models import Sum\n",
    "from customer.services import transaction\n",
    "\n",
    "\n",
    "def create_customer_transaction(customer: Customer) -> Transaction:\n",
    "    customerid = customer.id\n",
    "    subtotal = Cart.objects.filter(customer_id=customerid).aggregate(Sum('sub_total'))\n",
    "    dis = 10\n",
    "    discount_trans = Decimal(dis/100)\n",
    "    subtotal = subtotal.get('sub_total__sum')\n",
    "    discount = subtotal * discount_trans\n",
    "    grandtotal = subtotal - discount\n",
    "    transaction = Transaction.objects.create(\n",
    "        sub_total = subtotal,\n",
    "        discount = dis,\n",
    "        grand_total = grandtotal\n",
    "    )\n",
    "    return transaction\n",
    "\n",
    "def get_discount_price(price: Decimal, discount: int=0) -> Decimal:\n",
    "    d = discount/ Decimal(100.0)\n",
    "    discount_product = price * d\n",
    "    discount_price = price - discount_product\n",
    "    return discount_price\n",
    "    \n",
    "\n",
    "def create_cart(customer: Customer, product: Product) -> Cart:\n",
    "    subtotal = get_discount_price(product.price, product.discount)\n",
    "    cart = Cart.objects.create(\n",
    "        customer=customer,\n",
    "        product=product,\n",
    "        sub_total=subtotal,\n",
    "    )\n",
    "    return cart"
   ]
  },
  {
   "cell_type": "code",
   "execution_count": 2,
   "metadata": {},
   "outputs": [],
   "source": [
    "customer1 = Customer.objects.get(name=\"Budi\")"
   ]
  },
  {
   "cell_type": "code",
   "execution_count": 3,
   "metadata": {},
   "outputs": [],
   "source": [
    "products = Product.objects.all()"
   ]
  },
  {
   "cell_type": "code",
   "execution_count": 4,
   "metadata": {},
   "outputs": [],
   "source": [
    "for product in products:\n",
    "    create_cart(customer1, product)"
   ]
  },
  {
   "cell_type": "code",
   "execution_count": null,
   "metadata": {},
   "outputs": [],
   "source": []
  }
 ],
 "metadata": {
  "kernelspec": {
   "display_name": "Django Shell-Plus",
   "language": "python",
   "name": "django_extensions"
  },
  "language_info": {
   "codemirror_mode": {
    "name": "ipython",
    "version": 3
   },
   "file_extension": ".py",
   "mimetype": "text/x-python",
   "name": "python",
   "nbconvert_exporter": "python",
   "pygments_lexer": "ipython3",
   "version": "3.6.8"
  }
 },
 "nbformat": 4,
 "nbformat_minor": 2
}
